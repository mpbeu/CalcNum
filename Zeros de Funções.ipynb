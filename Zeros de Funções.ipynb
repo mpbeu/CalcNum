{
 "cells": [
  {
   "cell_type": "markdown",
   "metadata": {},
   "source": [
    "### Etapa preliminar"
   ]
  },
  {
   "cell_type": "markdown",
   "metadata": {},
   "source": [
    "#### Importando bibliotecas do Python"
   ]
  },
  {
   "cell_type": "code",
   "execution_count": 2,
   "metadata": {},
   "outputs": [],
   "source": [
    "import numpy as np                      #biblioteca de computação científica\n",
    "import matplotlib.pyplot as plt         #biblioteca para a geração de gráficos 2D\n",
    "import math                             #biblioteca de funções matemáticas"
   ]
  },
  {
   "cell_type": "markdown",
   "metadata": {},
   "source": [
    "#### Definindo uma função"
   ]
  },
  {
   "cell_type": "code",
   "execution_count": 3,
   "metadata": {},
   "outputs": [],
   "source": [
    "def f(x): return x**3 - x - 1"
   ]
  },
  {
   "cell_type": "markdown",
   "metadata": {},
   "source": [
    "#### Função para desenhar o gráfico de f(x)"
   ]
  },
  {
   "cell_type": "code",
   "execution_count": 4,
   "metadata": {},
   "outputs": [],
   "source": [
    "def grafico(f, min=-10, max=10, n=1000):\n",
    "    x = np.linspace(min,max,n)\n",
    "    plt.plot(x,f(x))\n",
    "    plt.grid()\n",
    "    plt.show()"
   ]
  },
  {
   "cell_type": "code",
   "execution_count": 5,
   "metadata": {},
   "outputs": [
    {
     "data": {
      "image/png": "[encoded data removed]",
      "text/plain": [
       "<Figure size 432x288 with 1 Axes>"
      ]
     },
     "metadata": {
      "needs_background": "light"
     },
     "output_type": "display_data"
    }
   ],
   "source": [
    "grafico(f, 0, 5)"
   ]
  },
  {
   "cell_type": "markdown",
   "metadata": {},
   "source": [
    "#### 1 - ISOLAMENTO DE RAÍZES"
   ]
  },
  {
   "cell_type": "code",
   "execution_count": 6,
   "metadata": {},
   "outputs": [],
   "source": [
    "def isola(f,min=-100, max=100):\n",
    "    for i in range(min,max+1,1):\n",
    "        if f(i)*f(i+1) < 0:\n",
    "            print('(%.2f, %.2f)' %(i,i+1))"
   ]
  },
  {
   "cell_type": "code",
   "execution_count": 7,
   "metadata": {},
   "outputs": [
    {
     "name": "stdout",
     "output_type": "stream",
     "text": [
      "(1.00, 2.00)\n"
     ]
    }
   ],
   "source": [
    "isola(f)"
   ]
  },
  {
   "cell_type": "markdown",
   "metadata": {},
   "source": [
    "#### 2 - REFINAMENTO"
   ]
  },
  {
   "cell_type": "markdown",
   "metadata": {},
   "source": [
    "##### Método da Bissecção"
   ]
  },
  {
   "cell_type": "code",
   "execution_count": 8,
   "metadata": {},
   "outputs": [],
   "source": [
    "def bissecao(f, a, b, es=0.5, n=100):\n",
    "    i = 0\n",
    "    fa = f(a)\n",
    "    fb = f(b)\n",
    "    p = a\n",
    "    #iteracao da bissecao\n",
    "    print('{:<}{:^12}{:^8}{:^10}{:^8}{:^8}{:^10}{:^8}'.format('i','a','b','x','f(a)','f(b)','f(x)','ea'))\n",
    "    while (i <= n):\n",
    "        p0 = p\n",
    "        p = (a + b)/2\n",
    "        fp = f(p)\n",
    "        ea = abs((p - p0)/p)*100\n",
    "        print('%d %8.4f %8.4f %8.4f %8.4f %8.4f %8.4f %8.4f' %(i,a,b,p,fa,fb,fp,ea))\n",
    "        #testando condicao de parada\n",
    "        if fp == 0 or ea < es:\n",
    "            return p  \n",
    "        #bissecciona o intervalo\n",
    "        if (fa * fp > 0):   # se True, então o zero de f está em [p, b]\n",
    "            a = p\n",
    "            fa = fp\n",
    "        else:        # o zero de f está em [a, p]\n",
    "            b = p\n",
    "            fb = fp\n",
    "        i = i+1"
   ]
  },
  {
   "cell_type": "code",
   "execution_count": 9,
   "metadata": {},
   "outputs": [
    {
     "name": "stdout",
     "output_type": "stream",
     "text": [
      "i     a         b        x       f(a)    f(b)     f(x)      ea   \n",
      "0   1.0000   2.0000   1.5000  -1.0000   5.0000   0.8750  33.3333\n",
      "1   1.0000   1.5000   1.2500  -1.0000   0.8750  -0.2969  20.0000\n",
      "2   1.2500   1.5000   1.3750  -0.2969   0.8750   0.2246   9.0909\n",
      "3   1.2500   1.3750   1.3125  -0.2969   0.2246  -0.0515   4.7619\n",
      "4   1.3125   1.3750   1.3438  -0.0515   0.2246   0.0826   2.3256\n",
      "5   1.3125   1.3438   1.3281  -0.0515   0.0826   0.0146   1.1765\n",
      "6   1.3125   1.3281   1.3203  -0.0515   0.0146  -0.0187   0.5917\n",
      "7   1.3203   1.3281   1.3242  -0.0187   0.0146  -0.0021   0.2950\n",
      "8   1.3242   1.3281   1.3262  -0.0021   0.0146   0.0062   0.1473\n",
      "9   1.3242   1.3262   1.3252  -0.0021   0.0062   0.0020   0.0737\n"
     ]
    },
    {
     "data": {
      "text/plain": [
       "1.3251953125"
      ]
     },
     "execution_count": 9,
     "metadata": {},
     "output_type": "execute_result"
    }
   ],
   "source": [
    "bissecao(f, 1, 2, es=0.1)"
   ]
  },
  {
   "cell_type": "code",
   "execution_count": 10,
   "metadata": {},
   "outputs": [
    {
     "name": "stdout",
     "output_type": "stream",
     "text": [
      "i     a         b        x       f(a)    f(b)     f(x)      ea   \n",
      "0   1.0000   2.0000   1.5000  -1.0000   5.0000   0.8750  33.3333\n",
      "1   1.0000   1.5000   1.2500  -1.0000   0.8750  -0.2969  20.0000\n",
      "2   1.2500   1.5000   1.3750  -0.2969   0.8750   0.2246   9.0909\n",
      "3   1.2500   1.3750   1.3125  -0.2969   0.2246  -0.0515   4.7619\n",
      "4   1.3125   1.3750   1.3438  -0.0515   0.2246   0.0826   2.3256\n",
      "5   1.3125   1.3438   1.3281  -0.0515   0.0826   0.0146   1.1765\n",
      "6   1.3125   1.3281   1.3203  -0.0515   0.0146  -0.0187   0.5917\n",
      "7   1.3203   1.3281   1.3242  -0.0187   0.0146  -0.0021   0.2950\n",
      "8   1.3242   1.3281   1.3262  -0.0021   0.0146   0.0062   0.1473\n",
      "9   1.3242   1.3262   1.3252  -0.0021   0.0062   0.0020   0.0737\n"
     ]
    },
    {
     "data": {
      "text/plain": [
       "1.3251953125"
      ]
     },
     "execution_count": 10,
     "metadata": {},
     "output_type": "execute_result"
    }
   ],
   "source": [
    "bissecao(f,1,2, es=0.1)"
   ]
  },
  {
   "cell_type": "markdown",
   "metadata": {},
   "source": [
    "##### Método de Newton-Raphson"
   ]
  },
  {
   "cell_type": "code",
   "execution_count": 11,
   "metadata": {},
   "outputs": [],
   "source": [
    "#Definindo a função\n",
    "def f(x): return x**3 - x - 1\n",
    "def f_(x): return 3*x**3 - x - 1"
   ]
  },
  {
   "cell_type": "code",
   "execution_count": 12,
   "metadata": {},
   "outputs": [
    {
     "data": {
      "image/png": "[encoded data removed]",
      "text/plain": [
       "<Figure size 432x288 with 1 Axes>"
      ]
     },
     "metadata": {
      "needs_background": "light"
     },
     "output_type": "display_data"
    }
   ],
   "source": [
    "grafico(f,-2,2)\n"
   ]
  },
  {
   "cell_type": "code",
   "execution_count": 13,
   "metadata": {},
   "outputs": [],
   "source": [
    "def newtonraphson(f, f_, x0, fs=0.00001, es=0.5, NMAX=100):\n",
    "    n=1\n",
    "    print('{:<}{:>7}{:>10}{:>10}'.format('i','x','f(x)','ea(%)'))\n",
    "    while n<=NMAX:\n",
    "        #testando condicao de parada \n",
    "        x1 = x0 - (f(x0)/f_(x0))\n",
    "        y = f(x1)\n",
    "        ea = abs((x1 - x0)/x1)*100\n",
    "        print('%d %8.4f %8.4f %8.4f' %(n,x1,y,ea))\n",
    "        if ea < es or f(x1) < fs :\n",
    "            return x1\n",
    "        else:\n",
    "            x0 = x1\n",
    "        n += 1"
   ]
  },
  {
   "cell_type": "code",
   "execution_count": 14,
   "metadata": {},
   "outputs": [
    {
     "name": "stdout",
     "output_type": "stream",
     "text": [
      "i      x      f(x)     ea(%)\n",
      "1   1.7619   2.7076  13.5135\n",
      "2   1.5635   1.2585  12.6900\n",
      "3   1.4221   0.4541   9.9404\n",
      "4   1.3490   0.1058   5.4234\n",
      "5   1.3279   0.0135   1.5884\n",
      "6   1.3250   0.0012   0.2173\n"
     ]
    },
    {
     "data": {
      "text/plain": [
       "1.325000059938332"
      ]
     },
     "execution_count": 14,
     "metadata": {},
     "output_type": "execute_result"
    }
   ],
   "source": [
    "newtonraphson(f, f_,2)"
   ]
  },
  {
   "cell_type": "markdown",
   "metadata": {},
   "source": [
    "##### Método da Secante"
   ]
  },
  {
   "cell_type": "code",
   "execution_count": 15,
   "metadata": {},
   "outputs": [],
   "source": [
    "def secante(f, x0, x1, es=0.5, NMAX=100):\n",
    "    n=1\n",
    "    ea = 100\n",
    "    print('{:<}{:>7}{:>10}{:>10}'.format('i','x','f(x)','ea(%)'))\n",
    "    while n<=NMAX:\n",
    "        x2 = (x0*f(x1)-x1*f(x0)) / (f(x1)-f(x0))\n",
    "        ea = abs((x2 - x1)/x2)*100\n",
    "        print('%d %8.4f %8.4f %8.4f' %(n,x2,f(x2),ea))\n",
    "        if ea < es:\n",
    "            return x2\n",
    "        else:\n",
    "            x0 = x1\n",
    "            x1 = x2\n",
    "        n += 1\n"
   ]
  },
  {
   "cell_type": "code",
   "execution_count": 16,
   "metadata": {},
   "outputs": [
    {
     "name": "stdout",
     "output_type": "stream",
     "text": [
      "i      x      f(x)     ea(%)\n",
      "1   1.1667  -0.5787  71.4286\n",
      "2   1.2531  -0.2854   6.8985\n",
      "3   1.3372   0.0539   6.2888\n",
      "4   1.3239  -0.0037   1.0089\n",
      "5   1.3247  -0.0000   0.0648\n"
     ]
    },
    {
     "data": {
      "text/plain": [
       "1.3247079365320882"
      ]
     },
     "execution_count": 16,
     "metadata": {},
     "output_type": "execute_result"
    }
   ],
   "source": [
    "secante(f, 1, 2)"
   ]
  },
  {
   "cell_type": "markdown",
   "metadata": {},
   "source": [
    "### Biblioteca ***scipy*** do Python"
   ]
  },
  {
   "cell_type": "code",
   "execution_count": 28,
   "metadata": {},
   "outputs": [
    {
     "data": {
      "text/plain": [
       "1.325000059938332"
      ]
     },
     "execution_count": 28,
     "metadata": {},
     "output_type": "execute_result"
    }
   ],
   "source": [
    "# Importar função \"newton\" do pacote \"optimize\" da bibliotece \"scipy\"  \n",
    "from scipy.optimize import newton  \n",
    "\n",
    "# Aplicando o Método de Newton-Raphson\n",
    "newton(f, 2, f_, tol=0.01)"
   ]
  },
  {
   "cell_type": "code",
   "execution_count": 29,
   "metadata": {},
   "outputs": [
    {
     "name": "stdout",
     "output_type": "stream",
     "text": [
      "i      x      f(x)     ea(%)\n",
      "1   1.7619   2.7076  13.5135\n",
      "2   1.5635   1.2585  12.6900\n",
      "3   1.4221   0.4541   9.9404\n",
      "4   1.3490   0.1058   5.4234\n",
      "5   1.3279   0.0135   1.5884\n",
      "6   1.3250   0.0012   0.2173\n"
     ]
    },
    {
     "data": {
      "text/plain": [
       "1.325000059938332"
      ]
     },
     "execution_count": 29,
     "metadata": {},
     "output_type": "execute_result"
    }
   ],
   "source": [
    "# Agora use a função programada anteriormente  \n",
    "newtonraphson(f, f_, 2)"
   ]
  },
  {
   "cell_type": "code",
   "execution_count": 33,
   "metadata": {},
   "outputs": [
    {
     "data": {
      "text/plain": [
       "1.3247179572446701"
      ]
     },
     "execution_count": 33,
     "metadata": {},
     "output_type": "execute_result"
    }
   ],
   "source": [
    "# Aplicando o Método da Secante\n",
    "newton(f, x0=1, x1=2)"
   ]
  },
  {
   "cell_type": "code",
   "execution_count": 37,
   "metadata": {},
   "outputs": [
    {
     "name": "stdout",
     "output_type": "stream",
     "text": [
      "i      x      f(x)     ea(%)\n",
      "1   1.1667  -0.5787  71.4286\n",
      "2   1.2531  -0.2854   6.8985\n",
      "3   1.3372   0.0539   6.2888\n",
      "4   1.3239  -0.0037   1.0089\n",
      "5   1.3247  -0.0000   0.0648\n",
      "6   1.3247   0.0000   0.0008\n"
     ]
    },
    {
     "data": {
      "text/plain": [
       "1.3247179653538177"
      ]
     },
     "execution_count": 37,
     "metadata": {},
     "output_type": "execute_result"
    }
   ],
   "source": [
    "# Agora use a função programada anteriormente  \n",
    "secante(f, 1, 2, es=0.01)"
   ]
  }
 ],
 "metadata": {
  "kernelspec": {
   "display_name": "Python 3",
   "language": "python",
   "name": "python3"
  },
  "language_info": {
   "codemirror_mode": {
    "name": "ipython",
    "version": 3
   },
   "file_extension": ".py",
   "mimetype": "text/x-python",
   "name": "python",
   "nbconvert_exporter": "python",
   "pygments_lexer": "ipython3",
   "version": "3.7.7"
  }
 },
 "nbformat": 4,
 "nbformat_minor": 4
}

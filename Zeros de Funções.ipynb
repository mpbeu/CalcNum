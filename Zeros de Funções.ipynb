{
 "cells": [
  {
   "cell_type": "markdown",
   "metadata": {},
   "source": [
    "### Etapa preliminar"
   ]
  },
  {
   "cell_type": "markdown",
   "metadata": {},
   "source": [
    "#### Importando bibliotecas do Python"
   ]
  },
  {
   "cell_type": "code",
   "execution_count": null,
   "metadata": {},
   "outputs": [],
   "source": [
    "import numpy as np                      #biblioteca de computação científica\n",
    "import matplotlib.pyplot as plt         #biblioteca para a geração de gráficos 2D\n",
    "import math                             #biblioteca de funções matemáticas"
   ]
  },
  {
   "cell_type": "markdown",
   "metadata": {},
   "source": [
    "#### Definindo uma função"
   ]
  },
  {
   "cell_type": "code",
   "execution_count": null,
   "metadata": {},
   "outputs": [],
   "source": [
    "def f(x): return x**3 - x - 1"
   ]
  },
  {
   "cell_type": "markdown",
   "metadata": {},
   "source": [
    "#### Função para desenhar o gráfico de f(x)"
   ]
  },
  {
   "cell_type": "code",
   "execution_count": null,
   "metadata": {},
   "outputs": [],
   "source": [
    "def grafico(f, min=-10, max=10, n=1000):\n",
    "    x = np.linspace(min,max,n)\n",
    "    plt.plot(x,f(x))\n",
    "    plt.grid()\n",
    "    plt.show()"
   ]
  },
  {
   "cell_type": "code",
   "execution_count": null,
   "metadata": {},
   "outputs": [],
   "source": [
    "grafico(f, 0, 5)"
   ]
  },
  {
   "cell_type": "markdown",
   "metadata": {},
   "source": [
    "#### 1 - ISOLAMENTO DE RAÍZES"
   ]
  },
  {
   "cell_type": "code",
   "execution_count": null,
   "metadata": {},
   "outputs": [],
   "source": [
    "def isola(f,min=-100, max=100):\n",
    "    for i in range(min,max+1,1):\n",
    "        if f(i)*f(i+1) < 0:\n",
    "            print('[%.2f, %.2f]' %(i,i+1))"
   ]
  },
  {
   "cell_type": "code",
   "execution_count": null,
   "metadata": {},
   "outputs": [],
   "source": [
    "isola(f)"
   ]
  },
  {
   "cell_type": "markdown",
   "metadata": {},
   "source": [
    "#### 2 - REFINAMENTO"
   ]
  },
  {
   "cell_type": "markdown",
   "metadata": {},
   "source": [
    "##### Método da Bissecção"
   ]
  },
  {
   "cell_type": "code",
   "execution_count": null,
   "metadata": {},
   "outputs": [],
   "source": [
    "def bissecao(f, a, b, es=0.5, n=100):\n",
    "    i = 0\n",
    "    fa = f(a)\n",
    "    fb = f(b)\n",
    "    p = a\n",
    "    #iteracao da bissecao\n",
    "    print('{:<}{:^12}{:^8}{:^10}{:^8}{:^8}{:^10}{:^8}'.format('i','a','b','x','f(a)','f(b)','f(x)','ea'))\n",
    "    while (i <= n):\n",
    "        p0 = p\n",
    "        p = (a + b)/2\n",
    "        fp = f(p)\n",
    "        ea = abs((p - p0)/p)*100\n",
    "        print('%d %8.4f %8.4f %8.4f %8.4f %8.4f %8.4f %8.4f' %(i,a,b,p,fa,fb,fp,ea))\n",
    "        #testando condicao de parada\n",
    "        if fp == 0 or ea < es:\n",
    "            return p  \n",
    "        #bissecciona o intervalo\n",
    "        if (fa * fp > 0):   # se True, então o zero de f está em [p, b]\n",
    "            a = p\n",
    "            fa = fp\n",
    "        else:        # o zero de f está em [a, p]\n",
    "            b = p\n",
    "            fb = fp\n",
    "        i = i+1"
   ]
  },
  {
   "cell_type": "code",
   "execution_count": null,
   "metadata": {},
   "outputs": [],
   "source": [
    "bissecao(f, 1, 2, es=0.1)"
   ]
  },
  {
   "cell_type": "code",
   "execution_count": null,
   "metadata": {},
   "outputs": [],
   "source": [
    "bissecao(f,1,2, es=0.1)"
   ]
  },
  {
   "cell_type": "markdown",
   "metadata": {},
   "source": [
    "##### Método de Newton-Raphson"
   ]
  },
  {
   "cell_type": "code",
   "execution_count": null,
   "metadata": {},
   "outputs": [],
   "source": [
    "#Definindo a função\n",
    "def f(x): return x**3 - x - 1\n",
    "def f_(x): return 3*x**2 - 1"
   ]
  },
  {
   "cell_type": "code",
   "execution_count": null,
   "metadata": {},
   "outputs": [],
   "source": [
    "grafico(f,-2,2)\n"
   ]
  },
  {
   "cell_type": "code",
   "execution_count": null,
   "metadata": {},
   "outputs": [],
   "source": [
    "def newtonraphson(f, f_, x0, fs=0.00001, es=0.1, NMAX=100):\n",
    "    ''' f:  função analisada\n",
    "        f_: função derivada de f\n",
    "        x0: aproximação (chute) inicial\n",
    "        fs: valor máximo admitido de f quando avaliada no zero aproximado da função\n",
    "        es: tolerância ao \"erro relativo aproximado percentual\" \n",
    "        NMAX: número máximo de iterações '''\n",
    "    k=1\n",
    "    print('{:<}{:>7}{:>10}{:>10}'.format('i','x','f(x)','ea(%)'))\n",
    "    while k<=NMAX:\n",
    "        #calculando aproximação corrente, x1, a partir da aproximação passada, x0\n",
    "        x1 = x0 - (f(x0)/f_(x0))\n",
    "        y = f(x1)\n",
    "        ea = abs((x1 - x0)/x1)*100\n",
    "        print('%d %8.4f %8.4f %8.4f' %(k,x1,y,ea))\n",
    "        #testando condicao de parada \n",
    "        if ea < es and abs(f(x1)) < fs :\n",
    "            return x1\n",
    "        else:\n",
    "            x0 = x1\n",
    "        k += 1"
   ]
  },
  {
   "cell_type": "code",
   "execution_count": null,
   "metadata": {},
   "outputs": [],
   "source": [
    "newtonraphson(f,f_,2)"
   ]
  },
  {
   "cell_type": "markdown",
   "metadata": {},
   "source": [
    "##### Método da Secante"
   ]
  },
  {
   "cell_type": "code",
   "execution_count": null,
   "metadata": {},
   "outputs": [],
   "source": [
    "def secante(f, x0, x1, fs=0.00001, es=0.1, NMAX=100):\n",
    "    ''' f:  função analisada\n",
    "        x0 e x1: aproximações iniciais\n",
    "        fs: valor máximo admitido de f quando avaliada no zero aproximado da função\n",
    "        es: tolerância ao \"erro relativo aproximado percentual\" \n",
    "        NMAX: número máximo de iterações '''\n",
    "    k=1\n",
    "    ea = 100\n",
    "    print('{:<}{:>7}{:>10}{:>10}'.format('i','x','f(x)','ea(%)'))\n",
    "    while k<=NMAX:\n",
    "        x2 = (x0*f(x1)-x1*f(x0)) / (f(x1)-f(x0))\n",
    "        ea = abs((x2 - x1)/x2)*100\n",
    "        print('%d %8.5f %8.5f %8.5f' %(k,x2,f(x2),ea))\n",
    "        if ea < es and abs(f(x2)) < fs :\n",
    "            return x2\n",
    "        else:\n",
    "            x0 = x1\n",
    "            x1 = x2\n",
    "        k += 1\n"
   ]
  },
  {
   "cell_type": "code",
   "execution_count": null,
   "metadata": {},
   "outputs": [],
   "source": [
    "secante(f, 1, 2)"
   ]
  },
  {
   "cell_type": "markdown",
   "metadata": {},
   "source": [
    "### Biblioteca ***scipy*** do Python"
   ]
  },
  {
   "cell_type": "code",
   "execution_count": null,
   "metadata": {},
   "outputs": [],
   "source": [
    "# Importar função \"newton\" do pacote \"optimize\" da biblioteca \"scipy\"  \n",
    "from scipy.optimize import newton  "
   ]
  },
  {
   "cell_type": "code",
   "execution_count": null,
   "metadata": {},
   "outputs": [],
   "source": [
    "# Aplicando o Método de Newton-Raphson\n",
    "newton(f, 2, f_)"
   ]
  },
  {
   "cell_type": "code",
   "execution_count": null,
   "metadata": {},
   "outputs": [],
   "source": [
    "# Agora use a função programada anteriormente  \n",
    "newtonraphson(f, f_, 2)"
   ]
  },
  {
   "cell_type": "code",
   "execution_count": null,
   "metadata": {},
   "outputs": [],
   "source": [
    "# Aplicando o Método da Secante\n",
    "newton(f, x0=1, x1=2)"
   ]
  },
  {
   "cell_type": "code",
   "execution_count": null,
   "metadata": {},
   "outputs": [],
   "source": [
    "# Agora use a função programada anteriormente  \n",
    "secante(f, 1, 2)"
   ]
  },
  {
   "cell_type": "code",
   "execution_count": null,
   "metadata": {},
   "outputs": [],
   "source": []
  },
  {
   "cell_type": "code",
   "execution_count": null,
   "metadata": {},
   "outputs": [],
   "source": []
  }
 ],
 "metadata": {
  "kernelspec": {
   "display_name": "Python 3",
   "language": "python",
   "name": "python3"
  },
  "language_info": {
   "codemirror_mode": {
    "name": "ipython",
    "version": 3
   },
   "file_extension": ".py",
   "mimetype": "text/x-python",
   "name": "python",
   "nbconvert_exporter": "python",
   "pygments_lexer": "ipython3",
   "version": "3.7.7"
  }
 },
 "nbformat": 4,
 "nbformat_minor": 4
}

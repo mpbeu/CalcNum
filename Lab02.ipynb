{
 "cells": [
  {
   "cell_type": "markdown",
   "metadata": {},
   "source": [
    "# CÁLCULO NUMÉRICO"
   ]
  },
  {
   "cell_type": "markdown",
   "metadata": {},
   "source": [
    "## Zeros de Funções"
   ]
  },
  {
   "cell_type": "code",
   "execution_count": 1,
   "metadata": {},
   "outputs": [],
   "source": [
    "import numpy as np                      #biblioteca de computação científica\n",
    "import matplotlib.pyplot as plt         #biblioteca para a geração de gráficos 2D\n",
    "import math                             #biblioteca de funções matemáticas"
   ]
  },
  {
   "cell_type": "code",
   "execution_count": 2,
   "metadata": {},
   "outputs": [],
   "source": [
    "#Definindo a função\n",
    "def f(x): return x**3 - 6*x - 3\n",
    "def f_(x): return 3*x**2 - 6"
   ]
  },
  {
   "cell_type": "markdown",
   "metadata": {},
   "source": [
    "### 1. Isolamento de Raízes"
   ]
  },
  {
   "cell_type": "code",
   "execution_count": 11,
   "metadata": {},
   "outputs": [],
   "source": [
    "#Função para gerar o gráfico de uma função\n",
    "def gerargraf(f, min=-5, max=5, n=1000):\n",
    "    x = np.linspace(min,max,n)\n",
    "    plt.plot(x,f(x))\n",
    "    plt.grid()\n",
    "    plt.show()"
   ]
  },
  {
   "cell_type": "code",
   "execution_count": 12,
   "metadata": {},
   "outputs": [
    {
     "data": {
      "image/png": "[encoded data removed]",
      "text/plain": [
       "<matplotlib.figure.Figure at 0x5fad250>"
      ]
     },
     "metadata": {},
     "output_type": "display_data"
    }
   ],
   "source": [
    "gerargraf(f)"
   ]
  },
  {
   "cell_type": "code",
   "execution_count": 13,
   "metadata": {},
   "outputs": [],
   "source": [
    "# Função para identificação de intervalos contendo raízes\n",
    "def isola(f,min=-100, max=100, n=100):\n",
    "    for i in range(min,max+1,1):\n",
    "        if np.sign(f(i)*f(i+1)) == -1:\n",
    "            print('(%.2f, %.2f)' %(i,i+1))"
   ]
  },
  {
   "cell_type": "code",
   "execution_count": 21,
   "metadata": {},
   "outputs": [
    {
     "name": "stdout",
     "output_type": "stream",
     "text": [
      "(-3.00, -2.00)\n",
      "(-1.00, 0.00)\n",
      "(2.00, 3.00)\n"
     ]
    }
   ],
   "source": [
    "isola(f)"
   ]
  },
  {
   "cell_type": "markdown",
   "metadata": {},
   "source": [
    "### 2. Refinamento"
   ]
  },
  {
   "cell_type": "code",
   "execution_count": 22,
   "metadata": {},
   "outputs": [],
   "source": [
    "# Método da Bissecao\n",
    "def bissecao(f, a, b, es=0.5, n=100):\n",
    "    i = 1\n",
    "    fa = f(a)\n",
    "    fb = f(b)\n",
    "    p = a\n",
    "    #iteracao da bissecao\n",
    "    print('{:<}{:^12}{:^8}{:^10}{:^8}{:^8}{:^10}{:^8}'.format('i','a','b','x','f(a)','f(b)','f(x)','ea'))\n",
    "    while (i <= n):\n",
    "        p0 = p\n",
    "        p = a + (b-a)/2\n",
    "        fp = f(p)\n",
    "        ea = abs((p - p0)/p)*100\n",
    "        print('%d %8.4f %8.4f %8.4f %8.4f %8.4f %8.4f %8.4f' %(i,a,b,p,fa,fb,fp,ea))\n",
    "        #testando condicao de parada\n",
    "        if fp == 0 or ea < es:\n",
    "            return p  \n",
    "        #bissecciona o intervalo\n",
    "        i = i+1\n",
    "        if (fa * fp > 0):\n",
    "            a = p\n",
    "            fa = fp\n",
    "        else:\n",
    "            b = p\n",
    "            fb = fp\n",
    "    raise NameError('Num. max. de iter. excedido!')"
   ]
  },
  {
   "cell_type": "code",
   "execution_count": 23,
   "metadata": {},
   "outputs": [
    {
     "name": "stdout",
     "output_type": "stream",
     "text": [
      "i     a         b        x       f(a)    f(b)     f(x)      ea   \n",
      "1   2.0000   3.0000   2.5000  -7.0000   6.0000  -2.3750  20.0000\n",
      "2   2.5000   3.0000   2.7500  -2.3750   6.0000   1.2969   9.0909\n",
      "3   2.5000   2.7500   2.6250  -2.3750   1.2969  -0.6621   4.7619\n",
      "4   2.6250   2.7500   2.6875  -0.6621   1.2969   0.2859   2.3256\n",
      "5   2.6250   2.6875   2.6562  -0.6621   0.2859  -0.1959   1.1765\n",
      "6   2.6562   2.6875   2.6719  -0.1959   0.2859   0.0430   0.5848\n",
      "7   2.6562   2.6719   2.6641  -0.1959   0.0430  -0.0769   0.2933\n"
     ]
    },
    {
     "data": {
      "text/plain": [
       "2.6640625"
      ]
     },
     "execution_count": 23,
     "metadata": {},
     "output_type": "execute_result"
    }
   ],
   "source": [
    "bissecao(f,2,3)"
   ]
  },
  {
   "cell_type": "code",
   "execution_count": 24,
   "metadata": {},
   "outputs": [],
   "source": [
    "# Método de Newton-Raphson\n",
    "def newtonraphson(f, f_, x0, TOL=0.5, NMAX=100):\n",
    "    n=1\n",
    "    print('{:<}{:>7}{:>10}{:>10}'.format('i','x','f(x)','ea(%)'))\n",
    "    while n<=NMAX:\n",
    "        x1 = x0 - (f(x0)/f_(x0))\n",
    "        y = f(x1)\n",
    "        ea = abs((x1 - x0)/x1)*100\n",
    "        print('%d %8.4f %8.4f %8.4f' %(n,x1,y,ea))\n",
    "        if ea < TOL:\n",
    "            return x1\n",
    "        else:\n",
    "            x0 = x1\n",
    "        n += 1"
   ]
  },
  {
   "cell_type": "code",
   "execution_count": 25,
   "metadata": {},
   "outputs": [
    {
     "name": "stdout",
     "output_type": "stream",
     "text": [
      "i      x      f(x)     ea(%)\n",
      "1   3.1667   9.7546  36.8421\n",
      "2   2.7616   1.4921  14.6666\n",
      "3   2.6732   0.0640   3.3066\n",
      "4   2.6691   0.0001   0.1554\n"
     ]
    },
    {
     "data": {
      "text/plain": [
       "2.66908806118047"
      ]
     },
     "execution_count": 25,
     "metadata": {},
     "output_type": "execute_result"
    }
   ],
   "source": [
    "newtonraphson(f,f_,2)"
   ]
  },
  {
   "cell_type": "code",
   "execution_count": null,
   "metadata": {},
   "outputs": [],
   "source": []
  },
  {
   "cell_type": "code",
   "execution_count": null,
   "metadata": {},
   "outputs": [],
   "source": []
  },
  {
   "cell_type": "code",
   "execution_count": null,
   "metadata": {},
   "outputs": [],
   "source": []
  }
 ],
 "metadata": {
  "kernelspec": {
   "display_name": "Python 3",
   "language": "python",
   "name": "python3"
  },
  "language_info": {
   "codemirror_mode": {
    "name": "ipython",
    "version": 3
   },
   "file_extension": ".py",
   "mimetype": "text/x-python",
   "name": "python",
   "nbconvert_exporter": "python",
   "pygments_lexer": "ipython3",
   "version": "3.5.0"
  }
 },
 "nbformat": 4,
 "nbformat_minor": 2
}

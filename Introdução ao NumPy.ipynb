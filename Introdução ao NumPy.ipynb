{
 "cells": [
  {
   "cell_type": "markdown",
   "metadata": {},
   "source": [
    "## \"Numerical Python\" \n",
    "### Pacote para computação científica com Python"
   ]
  },
  {
   "cell_type": "markdown",
   "metadata": {},
   "source": [
    "###### Importando a biblioteca NumPy"
   ]
  },
  {
   "cell_type": "code",
   "execution_count": 3,
   "metadata": {},
   "outputs": [],
   "source": [
    "from numpy import *   #importar todas as funções do NumPy"
   ]
  },
  {
   "cell_type": "markdown",
   "metadata": {},
   "source": [
    "###### Definindo uma lista de valores"
   ]
  },
  {
   "cell_type": "code",
   "execution_count": 4,
   "metadata": {},
   "outputs": [],
   "source": [
    "lst1 = [10, 2, 3]\n",
    "lst2 = [1, 5, 1]\n",
    "lst3 = [2, 3, 10]\n"
   ]
  },
  {
   "cell_type": "markdown",
   "metadata": {},
   "source": [
    "###### Definindo uma lista de listas"
   ]
  },
  {
   "cell_type": "code",
   "execution_count": 6,
   "metadata": {},
   "outputs": [],
   "source": [
    "A = [lst1, lst2, lst3]   \n",
    "#Alternativamente: A = [[10, 2, 3],[1, 5, 1],[2, 3, 10]]"
   ]
  },
  {
   "cell_type": "markdown",
   "metadata": {},
   "source": [
    "###### Criando um \"array\" (série ou matriz de valores)\n",
    "Um array é semelhante à uma lista, mas pode ser manipulado por várias funções contidas no módulo numpy.<br>O tamanho de um array é imutável e nenhum elemento vazio é permitido.\n",
    "<br><br>**Comandos para criar array:**<br>*array(list,dtype = type specificaton)*<br>*zeros((dim1,dim2),dtype = type specification)*<br>*ones((dim1,dim2),dtype = type specification)*<br>*identity(int,dtype = type specification)*<br>*arange(from,to,increment)*\n"
   ]
  },
  {
   "cell_type": "code",
   "execution_count": 35,
   "metadata": {},
   "outputs": [
    {
     "name": "stdout",
     "output_type": "stream",
     "text": [
      "[[10.  2.  3.]\n",
      " [ 1.  5.  1.]\n",
      " [ 2.  3. 10.]]\n"
     ]
    }
   ],
   "source": [
    "A = array(A, float)              #array(list,dtype = type specificaton)\n",
    "print(A)"
   ]
  },
  {
   "cell_type": "code",
   "execution_count": 36,
   "metadata": {},
   "outputs": [
    {
     "name": "stdout",
     "output_type": "stream",
     "text": [
      "[[0. 0. 0.]\n",
      " [0. 0. 0.]\n",
      " [0. 0. 0.]]\n"
     ]
    }
   ],
   "source": [
    "Z = zeros((3, 3))                #zeros((dim1,dim2),dtype = type specification)\n",
    "print(Z)"
   ]
  },
  {
   "cell_type": "code",
   "execution_count": 37,
   "metadata": {},
   "outputs": [
    {
     "name": "stdout",
     "output_type": "stream",
     "text": [
      "[[1. 1. 1.]\n",
      " [1. 1. 1.]\n",
      " [1. 1. 1.]]\n"
     ]
    }
   ],
   "source": [
    "O = ones((3, 3))                 #ones((dim1,dim2),dtype = type specification)\n",
    "print(O)"
   ]
  },
  {
   "cell_type": "code",
   "execution_count": 38,
   "metadata": {},
   "outputs": [
    {
     "name": "stdout",
     "output_type": "stream",
     "text": [
      "[[1. 0. 0.]\n",
      " [0. 1. 0.]\n",
      " [0. 0. 1.]]\n"
     ]
    }
   ],
   "source": [
    "I = identity(3)                  #identity(int,dtype = type specification)\n",
    "print(I)"
   ]
  },
  {
   "cell_type": "code",
   "execution_count": 39,
   "metadata": {},
   "outputs": [
    {
     "name": "stdout",
     "output_type": "stream",
     "text": [
      "[0.1 0.2 0.3 0.4 0.5 0.6 0.7 0.8 0.9]\n"
     ]
    }
   ],
   "source": [
    "R = arange(0.1, 1, 0.1)          #arange(from,to,increment)\n",
    "print(R)"
   ]
  },
  {
   "cell_type": "markdown",
   "metadata": {},
   "source": []
  },
  {
   "cell_type": "code",
   "execution_count": null,
   "metadata": {},
   "outputs": [],
   "source": [
    "### Acessando e alterando elementos do array\n",
    "##a = zeros((3,3),dtype=int)\n",
    "##print(a)\n",
    "##a[0] = [2,3,0]              #Modificando uma linha\n",
    "##print(a)\n",
    "##a[2,0] = 5                  #Modificando um elemento\n",
    "##print(a)\n",
    "##a[1,0:2] = [8,-3]           #Modificando parte de uma linha\n",
    "##print(a)\n",
    "##a[:,2] = [1,1,3]            #Modificando uma coluna\n",
    "##print(a)"
   ]
  },
  {
   "cell_type": "markdown",
   "metadata": {},
   "source": []
  },
  {
   "cell_type": "code",
   "execution_count": null,
   "metadata": {},
   "outputs": [],
   "source": [
    "### Operações com arrays\n",
    "##a = array([0, 4, 9, 16], float)\n",
    "##print(a/16)\n",
    "##print(a - 4.0)\n",
    "##a = array([1.0, 4.0, 9.0, 16.0])\n",
    "##print(sqrt(a))\n",
    "##print(sin(a))\n"
   ]
  },
  {
   "cell_type": "markdown",
   "metadata": {},
   "source": []
  },
  {
   "cell_type": "code",
   "execution_count": null,
   "metadata": {},
   "outputs": [],
   "source": [
    "### As funções importadas do módulo \"math\" funcionarão nos elementos individuais, mas não no próprio array.\n",
    "##a = array([1.0, 4.0, 9.0, 16.0])\n",
    "##from math import sqrt\n",
    "##print(sqrt(a[1]))\n",
    "##print(sqrt(a))\n",
    "##from numpy import sqrt\n",
    "##print(sqrt(a))\n"
   ]
  },
  {
   "cell_type": "markdown",
   "metadata": {},
   "source": []
  },
  {
   "cell_type": "code",
   "execution_count": null,
   "metadata": {},
   "outputs": [],
   "source": [
    "### Array Functions\n",
    "##from numpy import *\n",
    "##A = array([[4,-2,1],[-2,4,-2],[1,-2,3]],dtype=float)\n",
    "##b = array([1,4,3],dtype=float)\n",
    "##print(diagonal(A))       # Diagonal principal\n",
    "##print(diagonal(A,1))     # Primeira subdiagonal\n",
    "##print(trace(A))          # Soma dos elementos da diagonal\n",
    "##print(max(b))            # Valor do maior elemento\n",
    "##print(argmax(b))         # Índice do maior elemento\n",
    "##print(max((A)[0]))       # Valor do maior elemento da linha\n",
    "##print(max((A)[:,0]))     # Valor do maior elemento da coluna\n",
    "##print(argmax(A,axis=0))  # Indices dos menores elementos das colunas\n",
    "##print(argmax(A,axis=1))  # Indices dos menores elementos das linhas\n"
   ]
  },
  {
   "cell_type": "code",
   "execution_count": null,
   "metadata": {},
   "outputs": [],
   "source": []
  },
  {
   "cell_type": "markdown",
   "metadata": {},
   "source": []
  },
  {
   "cell_type": "code",
   "execution_count": null,
   "metadata": {},
   "outputs": [],
   "source": [
    "### Produtos de matriz\n",
    "##x = array([7,3])\n",
    "##y = array([2,1])\n",
    "##A = array([[1,2],[3,2]])\n",
    "##B = array([[1,1],[2,2]])\n",
    "##C = ones((3,2))\n",
    "### Dot product\n",
    "##print(dot(x,y))    # {x}.{y}\n",
    "##print(dot(A,x))    # [A]{x}\n",
    "##print(dot(A,B))    # [A][B]\n",
    "##print(dot(A,C))    # [A][C]\n",
    "### Inner product\n",
    "##inner(x,y)  # {x}.{y}\n",
    "##inner(A,x)  # [A]{x}\n",
    "##inner(A,B)  # [A][B_transpose]\n",
    "##inner(A,C)  # [A][C_transpose]\n"
   ]
  },
  {
   "cell_type": "markdown",
   "metadata": {},
   "source": []
  },
  {
   "cell_type": "code",
   "execution_count": null,
   "metadata": {},
   "outputs": [],
   "source": [
    "### Módulo de Álgebra Linear\n",
    "##from numpy import *\n",
    "##from numpy.linalg import *\n",
    "##A = array([[ 4.0, -2.0, 1.0],\n",
    "##           [-2.0, 4.0, -2.0], \n",
    "##           [ 1.0, -2.0, 3.0]])\n",
    "##b = array([1.0, 4.0, 2.0])\n",
    "##print(inv(A))           # Intersa da matriz\n",
    "##print('\\n')\n",
    "##print(solve(A,b))       # Solução do sistema linear [A]{x} = {b}\n"
   ]
  },
  {
   "cell_type": "markdown",
   "metadata": {},
   "source": []
  },
  {
   "cell_type": "code",
   "execution_count": 40,
   "metadata": {},
   "outputs": [
    {
     "data": {
      "text/plain": [
       "'\\nSe \"a\" é um array, o comando de atribuição \"b = a\" não resulta em um novo\\nobjeto \"b\", mas simplesmente cria uma nova referência para \"a\", de modo que\\numa alteração em \"a\" causa de mesma alteração em \"b\".\\nPara fazer uma cópia independente do array \"a\", use b = a.copy()\\n'"
      ]
     },
     "execution_count": 40,
     "metadata": {},
     "output_type": "execute_result"
    }
   ],
   "source": [
    "### Copying Arrays\n",
    "'''\n",
    "Se \"a\" é um array, o comando de atribuição \"b = a\" não resulta em um novo\n",
    "objeto \"b\", mas simplesmente cria uma nova referência para \"a\", de modo que\n",
    "uma alteração em \"a\" causa de mesma alteração em \"b\".\n",
    "Para fazer uma cópia independente do array \"a\", use b = a.copy()\n",
    "'''\n"
   ]
  },
  {
   "cell_type": "code",
   "execution_count": null,
   "metadata": {},
   "outputs": [],
   "source": []
  },
  {
   "cell_type": "code",
   "execution_count": null,
   "metadata": {},
   "outputs": [],
   "source": []
  },
  {
   "cell_type": "code",
   "execution_count": null,
   "metadata": {},
   "outputs": [],
   "source": []
  },
  {
   "cell_type": "code",
   "execution_count": null,
   "metadata": {},
   "outputs": [],
   "source": []
  },
  {
   "cell_type": "code",
   "execution_count": null,
   "metadata": {},
   "outputs": [],
   "source": []
  },
  {
   "cell_type": "code",
   "execution_count": null,
   "metadata": {},
   "outputs": [],
   "source": []
  },
  {
   "cell_type": "code",
   "execution_count": null,
   "metadata": {},
   "outputs": [],
   "source": []
  },
  {
   "cell_type": "code",
   "execution_count": null,
   "metadata": {},
   "outputs": [],
   "source": []
  },
  {
   "cell_type": "code",
   "execution_count": null,
   "metadata": {},
   "outputs": [],
   "source": []
  },
  {
   "cell_type": "code",
   "execution_count": null,
   "metadata": {},
   "outputs": [],
   "source": []
  },
  {
   "cell_type": "code",
   "execution_count": null,
   "metadata": {},
   "outputs": [],
   "source": []
  },
  {
   "cell_type": "code",
   "execution_count": null,
   "metadata": {},
   "outputs": [],
   "source": []
  },
  {
   "cell_type": "code",
   "execution_count": null,
   "metadata": {},
   "outputs": [],
   "source": []
  },
  {
   "cell_type": "code",
   "execution_count": null,
   "metadata": {},
   "outputs": [],
   "source": []
  },
  {
   "cell_type": "code",
   "execution_count": null,
   "metadata": {},
   "outputs": [],
   "source": []
  }
 ],
 "metadata": {
  "kernelspec": {
   "display_name": "Python 3",
   "language": "python",
   "name": "python3"
  },
  "language_info": {
   "codemirror_mode": {
    "name": "ipython",
    "version": 3
   },
   "file_extension": ".py",
   "mimetype": "text/x-python",
   "name": "python",
   "nbconvert_exporter": "python",
   "pygments_lexer": "ipython3",
   "version": "3.7.7"
  }
 },
 "nbformat": 4,
 "nbformat_minor": 4
}

{
 "cells": [
  {
   "cell_type": "markdown",
   "metadata": {},
   "source": [
    "# CÁLCULO NUMÉRICO"
   ]
  },
  {
   "cell_type": "markdown",
   "metadata": {},
   "source": [
    "## 1) Métodos Iterativos e Erros"
   ]
  },
  {
   "cell_type": "markdown",
   "metadata": {},
   "source": [
    "#### Erro de aproximação\n",
    "\\begin{eqnarray*}\n",
    "\\bigl| erro(k) &=& \\frac{aproximação(k) - aproximação(k-1)}{aproximação(k)} \\bigl| . 100\\%\n",
    "\\end{eqnarray*}"
   ]
  },
  {
   "cell_type": "markdown",
   "metadata": {},
   "source": [
    "#### Expansão da função exp(x) pela série de Maclaurin\n",
    "\\begin{eqnarray*}\n",
    "e^{x} &=& \\sum^{\\infty}_{n=0} \\frac{x^n}{n!} = 1 + x + \\frac{x^2}{2!} + \\frac{x^3}{3!} + \\cdots \\\\\n",
    "\\end{eqnarray*}"
   ]
  },
  {
   "cell_type": "code",
   "execution_count": 101,
   "metadata": {},
   "outputs": [],
   "source": [
    "#Criando a função \"exp\", que retorna uma tabela com aproximações sucessivas.\n",
    "\n",
    "def exp2(x, es, maxit):\n",
    "    '''Retorna uma tabela com aproximações sucessivas para \"exp(x)\".\n",
    "    \"es\" é o erro máximo tolerado (em percentual).\n",
    "    \"maxit\" é a quantidade máxima de iterações (termos).'''\n",
    "\n",
    "    #Criando variáveis necessárias para o algoritmo iterativo\n",
    "    iter = 1        #ordem de iteração presente\n",
    "    sol = 1         #solução presente\n",
    "    ea = 100        #erro de aproximação presente\n",
    "\n",
    "    #Imprimindo as duas primeira linhas da tabela\n",
    "    print('iter     sol       ea')\n",
    "    print('%2d %10.5f %10.5f' %(iter,sol,ea))\n",
    "\n",
    "    #Algoritmo iterativo\n",
    "    while True:\n",
    "        solold = sol\n",
    "        sol = sol + x**iter / math.factorial(iter)\n",
    "        iter = iter + 1\n",
    "        #Cálculo do erro aproximado percentual\n",
    "        if sol != 0:\n",
    "            ea = abs((sol - solold)/sol)*100\n",
    "        #Imprimindo a linha referente à iteração atual\n",
    "        print('%2d %10.5f %10.5f' %(iter,sol,ea))\n",
    "        #Condição de parada\n",
    "        if ea <= es or iter >= maxit:\n",
    "            break\n",
    "    #Imprimindo a solução final\n",
    "    print('O valor aproximado de exp(%.2f) é %.5f' %(x,sol))\n"
   ]
  },
  {
   "cell_type": "code",
   "execution_count": 102,
   "metadata": {},
   "outputs": [
    {
     "name": "stdout",
     "output_type": "stream",
     "text": [
      "iter     sol       ea\n",
      " 1    1.00000  100.00000\n",
      " 2    1.50000   33.33333\n",
      " 3    1.62500    7.69231\n",
      " 4    1.64583    1.26582\n",
      " 5    1.64844    0.15798\n",
      " 6    1.64870    0.01580\n",
      "O valor aproximado de exp(0.50) é 1.64870\n"
     ]
    }
   ],
   "source": [
    "import math\n",
    "exp2(0.5, 0.05, 100)"
   ]
  },
  {
   "cell_type": "markdown",
   "metadata": {},
   "source": [
    "#### Expansão da função cos(x) pela série de Maclaurin\n",
    "\\begin{eqnarray*}\n",
    "cos x &=& \\sum^{\\infty}_{n=0} \\frac{(-1)^n}{(2n)!} x^{2n}\\quad =  1 - \\frac{x^2}{2!} + \\frac{x^4}{4!} - \\cdots\n",
    "\\end{eqnarray*}"
   ]
  },
  {
   "cell_type": "code",
   "execution_count": 103,
   "metadata": {},
   "outputs": [],
   "source": [
    "#Criando a função \"cos\", que retorna uma tabela com aproximações sucessivas.\n",
    "\n",
    "def cos(x, es, maxit):\n",
    "    '''Retorna uma tabela com aproximações sucessivas para \"cos(x)\".\n",
    "    \"es\" é o erro máximo tolerado (em percentual).\n",
    "    \"maxit\" é a quantidade máxima de iterações (termos).'''\n",
    "\n",
    "    #Importando a função fatorial\n",
    "    from math import factorial\n",
    "\n",
    "    #Criando variáveis necessárias para o algoritmo iterativo\n",
    "    iter = 1        #ordem de iteração presente\n",
    "    sol = 1         #solução presente\n",
    "    ea = 100        #erro de aproximação presente\n",
    "    expoente = 0    #expoente considerado na iteração presente  \n",
    "    sinal = 1       #sinal considerado na iteração presente  \n",
    "\n",
    "    #Imprimindo as duas primeira linhas da tabela\n",
    "    print('iter     sol       ea')\n",
    "    print('%2d %10.5f %10.5f' %(iter,sol,ea))\n",
    "\n",
    "    #Algoritmo iterativo\n",
    "    while True:\n",
    "        iter = iter + 1\n",
    "        sinal = -1*sinal\n",
    "        expoente = expoente + 2\n",
    "        solold = sol\n",
    "        sol = sol + sinal*(x**expoente) / math.factorial(expoente)\n",
    "        #Cálculo do erro aproximado percentual\n",
    "        if sol != 0:\n",
    "            ea = abs((sol - solold)/sol)*100\n",
    "        #Imprimindo a linha referente à iteração atual\n",
    "        print('%2d %10.5f %10.5f' %(iter,sol,ea))\n",
    "        #Condição de parada\n",
    "        if ea <= es or iter >= maxit:\n",
    "            break\n",
    "\n",
    "    #Imprimindo a solução final\n",
    "    print('O valor aproximado de cos(%.2f*pi) é %.5f' %(x/math.pi,sol))"
   ]
  },
  {
   "cell_type": "code",
   "execution_count": 104,
   "metadata": {},
   "outputs": [
    {
     "name": "stdout",
     "output_type": "stream",
     "text": [
      "iter     sol       ea\n",
      " 1    1.00000  100.00000\n",
      " 2    0.55587   79.89889\n",
      " 3    0.58874    5.58402\n",
      " 4    0.58777    0.16561\n",
      " 5    0.58779    0.00263\n",
      "O valor aproximado de cos(0.30*pi) é 0.58779\n"
     ]
    }
   ],
   "source": [
    "import math\n",
    "cos(0.3*math.pi, 0.05, 100)"
   ]
  },
  {
   "cell_type": "code",
   "execution_count": null,
   "metadata": {},
   "outputs": [],
   "source": []
  }
 ],
 "metadata": {
  "kernelspec": {
   "display_name": "Python 3",
   "language": "python",
   "name": "python3"
  },
  "language_info": {
   "codemirror_mode": {
    "name": "ipython",
    "version": 3
   },
   "file_extension": ".py",
   "mimetype": "text/x-python",
   "name": "python",
   "nbconvert_exporter": "python",
   "pygments_lexer": "ipython3",
   "version": "3.5.0"
  }
 },
 "nbformat": 4,
 "nbformat_minor": 2
}

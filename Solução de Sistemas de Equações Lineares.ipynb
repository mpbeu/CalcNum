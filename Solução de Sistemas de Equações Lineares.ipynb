{
 "cells": [
  {
   "cell_type": "code",
   "execution_count": 1,
   "metadata": {},
   "outputs": [],
   "source": [
    "from numpy import *"
   ]
  },
  {
   "cell_type": "code",
   "execution_count": 2,
   "metadata": {},
   "outputs": [],
   "source": [
    "#### Gauss Elimination Method"
   ]
  },
  {
   "cell_type": "code",
   "execution_count": 3,
   "metadata": {},
   "outputs": [],
   "source": [
    "def gaussElimin(A,b):\n",
    "    '''Resolve [A]{b}={x} pelo método da eliminação de Gauss.'''\n",
    "    a = array(A, float)\n",
    "    b = array(b, float)\n",
    "    n = len(b)\n",
    "    print(concatenate((a, array([b]).T), axis=1),'\\n') #print da matriz ampliada\n",
    "    # Eliminação\n",
    "    for k in range(0,n-1):\n",
    "        for i in range(k+1,n):\n",
    "            if a[i,k] != 0.0:\n",
    "                m = a[i,k]/a[k,k]\n",
    "                a[i,k:n] = a[i,k:n] - m*a[k,k:n]\n",
    "                b[i] = b[i] - m*b[k]\n",
    "        print(concatenate((a, array([b]).T), axis=1),'\\n') #print da matriz ampliada\n",
    "    # Substituição retroativa\n",
    "    for k in range(n-1,-1,-1):\n",
    "        b[k] = (b[k] - dot(a[k,k+1:n],b[k+1:n]))/a[k,k]\n",
    "    return b\n"
   ]
  },
  {
   "cell_type": "code",
   "execution_count": 13,
   "metadata": {},
   "outputs": [
    {
     "name": "stdout",
     "output_type": "stream",
     "text": [
      "[[ 4.  4. -1.  5.]\n",
      " [ 2. -3.  1.  3.]\n",
      " [ 2.  2. -3. -1.]] \n",
      "\n",
      "[[ 4.   4.  -1.   5. ]\n",
      " [ 0.  -5.   1.5  0.5]\n",
      " [ 0.   0.  -2.5 -3.5]] \n",
      "\n",
      "[[ 4.   4.  -1.   5. ]\n",
      " [ 0.  -5.   1.5  0.5]\n",
      " [ 0.   0.  -2.5 -3.5]] \n",
      "\n"
     ]
    },
    {
     "data": {
      "text/plain": [
       "array([1.28, 0.32, 1.4 ])"
      ]
     },
     "execution_count": 13,
     "metadata": {},
     "output_type": "execute_result"
    }
   ],
   "source": [
    "# Testando\n",
    "A = [[4,4,-1],[2,-3,1],[2,2,-3]]\n",
    "b = [5,3,-1]\n",
    "gaussElimin(A,b)\n"
   ]
  },
  {
   "cell_type": "code",
   "execution_count": 4,
   "metadata": {},
   "outputs": [],
   "source": [
    "## Gauss-Jacobi Method\n",
    "\n",
    "from numpy import *\n",
    " \n",
    "def jacobi(a,b,x0=[0,0,0],tol=0.01,N=100):  \n",
    "    '''Resolve [A]{b}={x} pelo método de Gauss-Jacobi.'''\n",
    "    a = array(a, float)\n",
    "    b = array(b, float)\n",
    "    x0 = array(x0, float)\n",
    "    n = len(b)\n",
    "    x = zeros(n)      #gera vetor com n entradas, para comportar a solucao\n",
    "    k = 0             #variavel contadora da iteracao\n",
    "\n",
    "    #iteracoes  \n",
    "    while (k < N):  \n",
    "        k += 1  \n",
    "        #Iteracao\n",
    "        for i in arange(n):     #para cada entrada de posicao i do vetor x...  \n",
    "            x[i] = b[i]         #some a entrada de posicao i do vetor b ...\n",
    "            for j in concatenate((arange(0,i), arange(i+1,n))):  \n",
    "                x[i] -= a[i,j]*x0[j]  #subtraia os termos da linha i da matriz de coefic. (exceto na diag. princ.)...\n",
    "            x[i] /= a[i,i]      #e divida pelo termos de ordem i da diagonal principal.\n",
    "        #tolerancia\n",
    "        d = max(absolute(x-x0)) / max(absolute(x))\n",
    "        print('k=%d, x=%s, d=%.5f'  %(k,x,d))\n",
    "        if d <=tol:\n",
    "            return x\n",
    "        #prepara nova iteracao  \n",
    "        x0 = copy(x)\n",
    "    raise NameError('num. max. de iteracoes excedido.')\n"
   ]
  },
  {
   "cell_type": "code",
   "execution_count": 5,
   "metadata": {},
   "outputs": [
    {
     "name": "stdout",
     "output_type": "stream",
     "text": [
      "[[ 4. -1. -1.  3.]\n",
      " [-2.  6.  1.  9.]\n",
      " [-1.  1.  7. -6.]] \n",
      "\n",
      "[[ 4.   -1.   -1.    3.  ]\n",
      " [ 0.    5.5   0.5  10.5 ]\n",
      " [ 0.    0.75  6.75 -5.25]] \n",
      "\n",
      "[[ 4.         -1.         -1.          3.        ]\n",
      " [ 0.          5.5         0.5        10.5       ]\n",
      " [ 0.          0.          6.68181818 -6.68181818]] \n",
      "\n"
     ]
    },
    {
     "data": {
      "text/plain": [
       "array([ 1.,  2., -1.])"
      ]
     },
     "execution_count": 5,
     "metadata": {},
     "output_type": "execute_result"
    }
   ],
   "source": [
    "# Testando\n",
    "A = [[4,-1,-1],[-2,6,1],[-1,1,7]]\n",
    "b = [3,9,-6]\n",
    "gaussElimin(A,b)\n"
   ]
  },
  {
   "cell_type": "code",
   "execution_count": 6,
   "metadata": {},
   "outputs": [
    {
     "name": "stdout",
     "output_type": "stream",
     "text": [
      "k=1, x=[ 0.75        1.5        -0.85714286], d=1.00000\n",
      "k=2, x=[ 0.91071429  1.89285714 -0.96428571], d=0.20755\n",
      "k=3, x=[ 0.98214286  1.96428571 -0.99744898], d=0.03636\n",
      "k=4, x=[ 0.99170918  1.99362245 -0.99744898], d=0.01472\n",
      "k=5, x=[ 0.99904337  1.99681122 -1.00027332], d=0.00367\n"
     ]
    },
    {
     "data": {
      "text/plain": [
       "array([ 0.99904337,  1.99681122, -1.00027332])"
      ]
     },
     "execution_count": 6,
     "metadata": {},
     "output_type": "execute_result"
    }
   ],
   "source": [
    "# Testando\n",
    "jacobi(A, b)\n"
   ]
  },
  {
   "cell_type": "code",
   "execution_count": 7,
   "metadata": {},
   "outputs": [],
   "source": [
    "def seidel(a,b,x0=[0,0,0],tol=0.01,N=100):  \n",
    "    ''' x = seidel(a,b).\n",
    "        Solves [a]{b} = {x} by Gauss-Seidel iter method.'''\n",
    "    a, b, x0 = array(a, float), array(b, float), array(x0, float)\n",
    "    n = len(b)\n",
    "    x = zeros(n) \n",
    "    k = 0        \n",
    "    \n",
    "    #iteracoes  \n",
    "    while (k < N):  \n",
    "        k += 1\n",
    "        #iteracao de Seidel  \n",
    "        for i in arange(n):             #para cada entrada de posicao i do vetor x ...\n",
    "            x[i] = b[i]                 #some a entrada de posicao i do vetor b ...\n",
    "            for j in arange(0,i):       #subtraia os produtos entre os termos da linha i da matriz de coefic.\n",
    "                x[i] -= a[i,j]*x[j]     # e os valores xi já calculados...\n",
    "            for j in arange(i+1,n):     \n",
    "                x[i] -= a[i,j]*x0[j]\n",
    "            x[i] /= a[i,i]              #e divida pelo termos de ordem i da diagonal principal.\n",
    "        #tolerancia\n",
    "        d = max(absolute(x-x0)) / max(absolute(x))\n",
    "        print((k,x,d))\n",
    "        if d <=tol:\n",
    "            return x\n",
    "        #prepara nova iteracao  \n",
    "        x0 = copy(x)\n",
    "    raise NameError('num. max. de iteracoes excedido.')\n"
   ]
  },
  {
   "cell_type": "code",
   "execution_count": 8,
   "metadata": {},
   "outputs": [
    {
     "name": "stdout",
     "output_type": "stream",
     "text": [
      "(1, array([ 0.75,  1.75, -1.  ]), 1.0)\n",
      "(2, array([ 0.9375    ,  1.97916667, -1.00595238]), 0.11578947368421055)\n",
      "(3, array([ 0.99330357,  1.99875992, -1.00077948]), 0.027919096662116928)\n",
      "(4, array([ 0.99949511,  1.99996162, -1.00006664]), 0.003095828972057836)\n"
     ]
    },
    {
     "data": {
      "text/plain": [
       "array([ 0.99949511,  1.99996162, -1.00006664])"
      ]
     },
     "execution_count": 8,
     "metadata": {},
     "output_type": "execute_result"
    }
   ],
   "source": [
    "seidel(A, b)"
   ]
  },
  {
   "cell_type": "code",
   "execution_count": null,
   "metadata": {},
   "outputs": [],
   "source": []
  }
 ],
 "metadata": {
  "kernelspec": {
   "display_name": "Python 3",
   "language": "python",
   "name": "python3"
  },
  "language_info": {
   "codemirror_mode": {
    "name": "ipython",
    "version": 3
   },
   "file_extension": ".py",
   "mimetype": "text/x-python",
   "name": "python",
   "nbconvert_exporter": "python",
   "pygments_lexer": "ipython3",
   "version": "3.7.7"
  }
 },
 "nbformat": 4,
 "nbformat_minor": 4
}
